{
 "cells": [
  {
   "cell_type": "markdown",
   "metadata": {},
   "source": [
    "Decision Trees "
   ]
  },
  {
   "cell_type": "code",
   "execution_count": 4,
   "metadata": {},
   "outputs": [
    {
     "name": "stdout",
     "output_type": "stream",
     "text": [
      "0.7605974395448081\n",
      "0.7657894736842106\n"
     ]
    }
   ],
   "source": [
    "import pandas as pd\n",
    "import numpy as np\n",
    "from sklearn.model_selection import KFold\n",
    "from sklearn.naive_bayes import GaussianNB\n",
    "from sklearn.metrics import accuracy_score\n",
    "from sklearn.model_selection import cross_val_score\n",
    "from sklearn import linear_model\n",
    "from sklearn.externals.six import StringIO  \n",
    "from IPython.display import Image  \n",
    "from sklearn.tree import export_graphviz\n",
    "import pydotplus\n",
    "\n",
    "df = pd.read_csv('data/autoimmune.txt', delimiter=\"\\t\",header=None)\n",
    "df=df.transpose()\n",
    "\n",
    "df.columns=['Age','Blood_Pressure','BMI','Plasma_level','Autoimmune_Disease','Adverse_events','Drug_in_serum','Liver_function','Activity_test','Secondary_test']\n",
    "df.index = np.arange(1, len(df) + 1)\n",
    "\n",
    "X = df.drop('Autoimmune_Disease',axis=1)\n",
    "y = df['Autoimmune_Disease']\n",
    "\n",
    "dtree = GaussianNB()\n",
    "\n",
    "kf = KFold(n_splits=10, shuffle=False, random_state=None)\n",
    "\n",
    "acc=[]\n",
    "for train_index, test_index in kf.split(X):\n",
    "    X_train=X.iloc[train_index]\n",
    "    y_train=y.iloc[train_index]\n",
    "    X_test=X.iloc[test_index]\n",
    "    y_true=y.iloc[test_index]\n",
    "    dtree.fit(X_train,y_train)\n",
    "    y_pred = dtree.predict(X_test)\n",
    "    acc.append(accuracy_score(y_true, y_pred))\n",
    "\n",
    "print (sum(acc)/len(acc))\n",
    "    \n",
    "scores = cross_val_score(dtree, X, y, cv=10)\n",
    "\n",
    "print (sum(scores)/len(scores))"
   ]
  }
 ],
 "metadata": {
  "kernelspec": {
   "display_name": "Python 3",
   "language": "python",
   "name": "python3"
  },
  "language_info": {
   "codemirror_mode": {
    "name": "ipython",
    "version": 3
   },
   "file_extension": ".py",
   "mimetype": "text/x-python",
   "name": "python",
   "nbconvert_exporter": "python",
   "pygments_lexer": "ipython3",
   "version": "3.7.1"
  }
 },
 "nbformat": 4,
 "nbformat_minor": 1
}
