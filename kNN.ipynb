{
 "cells": [
  {
   "cell_type": "markdown",
   "metadata": {},
   "source": [
    "Decision Trees "
   ]
  },
  {
   "cell_type": "code",
   "execution_count": 1,
   "metadata": {},
   "outputs": [
    {
     "name": "stdout",
     "output_type": "stream",
     "text": [
      "[0.2831858407079646, 0.2831858407079646, 0.2831858407079646, 0.2920353982300885, 0.25663716814159293, 0.26548672566371684, 0.25663716814159293, 0.26548672566371684, 0.23893805309734514, 0.25663716814159293, 0.24778761061946902, 0.26548672566371684, 0.24778761061946902, 0.25663716814159293, 0.2831858407079646, 0.2743362831858407, 0.2743362831858407, 0.2920353982300885, 0.2920353982300885, 0.2920353982300885, 0.3008849557522124, 0.3008849557522124, 0.2831858407079646, 0.2831858407079646, 0.2831858407079646, 0.2920353982300885, 0.25663716814159293, 0.2743362831858407, 0.26548672566371684, 0.3008849557522124, 0.2743362831858407, 0.2920353982300885, 0.2920353982300885, 0.2831858407079646, 0.26548672566371684, 0.2743362831858407, 0.26548672566371684, 0.3008849557522124, 0.25663716814159293]\n",
      "0.7711948790896159\n",
      "0.7416666666666668\n"
     ]
    }
   ],
   "source": [
    "import pandas as pd\n",
    "import numpy as np\n",
    "from sklearn.model_selection import KFold\n",
    "from sklearn.neighbors import KNeighborsClassifier\n",
    "from sklearn.metrics import accuracy_score\n",
    "from sklearn.model_selection import cross_val_score\n",
    "from sklearn import linear_model\n",
    "import matplotlib.pyplot as plt\n",
    "from sklearn.model_selection import train_test_split\n",
    "\n",
    "df = pd.read_csv('data/autoimmune.txt', delimiter=\"\\t\",header=None)\n",
    "df=df.transpose()\n",
    "\n",
    "df.columns=['Age','Blood_Pressure','BMI','Plasma_level','Autoimmune_Disease','Adverse_events','Drug_in_serum','Liver_function','Activity_test','Secondary_test']\n",
    "df.index = np.arange(1, len(df) + 1)\n",
    "\n",
    "X = df.drop('Autoimmune_Disease',axis=1)\n",
    "y = df['Autoimmune_Disease']\n",
    "\n",
    "from sklearn.preprocessing import StandardScaler\n",
    "scaler = StandardScaler()\n",
    "scaler.fit(X)\n",
    "scaled_features = scaler.transform(X)\n",
    "df_feat = pd.DataFrame(scaled_features,columns=df.columns[:-1])\n",
    "\n",
    "X_train, X_test, y_train, y_test = train_test_split(scaled_features,df['Autoimmune_Disease'],\n",
    "                                                    test_size=0.30)\n",
    "\n",
    "error_rate = []\n",
    "for i in range(1,40):\n",
    "    \n",
    "    knn = KNeighborsClassifier(n_neighbors=i)\n",
    "    knn.fit(X_train,y_train)\n",
    "    pred_i = knn.predict(X_test)\n",
    "    error_rate.append(np.mean(pred_i != y_test))\n",
    "print (error_rate)\n",
    "plt.figure(figsize=(10,6))\n",
    "plt.plot(range(1,40),error_rate,color='blue', linestyle='dashed', marker='o',\n",
    "         markerfacecolor='red', markersize=10)\n",
    "plt.title('Error Rate vs. K Value')\n",
    "plt.xlabel('K')\n",
    "plt.ylabel('Error Rate')\n",
    "\n",
    "\n",
    "dtree = KNeighborsClassifier(n_neighbors=20)\n",
    "\n",
    "kf = KFold(n_splits=10, shuffle=False, random_state=None)\n",
    "\n",
    "acc=[]\n",
    "for train_index, test_index in kf.split(X):\n",
    "    X_train=scaler.transform(X.iloc[train_index])\n",
    "    y_train=y.iloc[train_index]\n",
    "    X_test=scaler.transform(X.iloc[test_index])\n",
    "    y_true=y.iloc[test_index]\n",
    "    dtree.fit(X_train,y_train)\n",
    "    y_pred = dtree.predict(X_test)\n",
    "    acc.append(accuracy_score(y_true, y_pred))\n",
    "\n",
    "print (sum(acc)/len(acc))\n",
    "    \n",
    "scores = cross_val_score(dtree, X, y, cv=10)\n",
    "\n",
    "print (sum(scores)/len(scores))"
   ]
  }
 ],
 "metadata": {
  "kernelspec": {
   "display_name": "Python 3",
   "language": "python",
   "name": "python3"
  },
  "language_info": {
   "codemirror_mode": {
    "name": "ipython",
    "version": 3
   },
   "file_extension": ".py",
   "mimetype": "text/x-python",
   "name": "python",
   "nbconvert_exporter": "python",
   "pygments_lexer": "ipython3",
   "version": "3.7.1"
  }
 },
 "nbformat": 4,
 "nbformat_minor": 1
}
